{
 "cells": [
  {
   "cell_type": "markdown",
   "metadata": {},
   "source": [
    "# Dunder (double underscore) in Python\n",
    "\n",
    "This notebook goes over all the dunder python variables and functions\n",
    "\n",
    "Useful references:\n",
    "- [This Article](https://www.pythonmorsels.com/dunder-variables/)\n",
    "- [Python Docs](https://docs.python.org/3/reference/datamodel.html#special-method-names)"
   ]
  },
  {
   "cell_type": "code",
   "execution_count": 1,
   "metadata": {},
   "outputs": [],
   "source": [
    "# basic imports\n",
    "import math"
   ]
  },
  {
   "cell_type": "markdown",
   "metadata": {},
   "source": [
    "## Variables/Attributes"
   ]
  },
  {
   "cell_type": "markdown",
   "metadata": {},
   "source": [
    "### `__doc__`\n",
    "\n",
    "This is a documentation string attribute."
   ]
  },
  {
   "cell_type": "code",
   "execution_count": 13,
   "metadata": {},
   "outputs": [
    {
     "name": "stdout",
     "output_type": "stream",
     "text": [
      "This module provides access to the mathematical functions\n",
      "defined by the C standard.\n",
      "\n",
      "    This is a function. The __doc__ attribute is read only and can only defined in a docstring in\n",
      "    a class or a function.\n",
      "    \n"
     ]
    }
   ],
   "source": [
    "print(math.__doc__)\n",
    "\n",
    "def func(a):\n",
    "    \"\"\"\n",
    "    This is a function. The __doc__ attribute is read only and can only defined in a docstring in\n",
    "    a class or a function.\n",
    "    \"\"\"\n",
    "    return a\n",
    "\n",
    "print(func.__doc__)"
   ]
  },
  {
   "cell_type": "markdown",
   "metadata": {},
   "source": [
    "### `__name__`\n",
    "\n",
    "This attribute stores the name of a module, class, or function."
   ]
  },
  {
   "cell_type": "code",
   "execution_count": 14,
   "metadata": {},
   "outputs": [
    {
     "name": "stdout",
     "output_type": "stream",
     "text": [
      "__main__\n",
      "math\n",
      "func\n"
     ]
    }
   ],
   "source": [
    "print(__name__)\n",
    "print(math.__name__)\n",
    "\n",
    "print(func.__name__)"
   ]
  },
  {
   "cell_type": "markdown",
   "metadata": {},
   "source": [
    "### `____`"
   ]
  }
 ],
 "metadata": {
  "kernelspec": {
   "display_name": "Python 3",
   "language": "python",
   "name": "python3"
  },
  "language_info": {
   "codemirror_mode": {
    "name": "ipython",
    "version": 3
   },
   "file_extension": ".py",
   "mimetype": "text/x-python",
   "name": "python",
   "nbconvert_exporter": "python",
   "pygments_lexer": "ipython3",
   "version": "3.11.7"
  }
 },
 "nbformat": 4,
 "nbformat_minor": 2
}
